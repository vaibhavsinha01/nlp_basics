{
 "cells": [
  {
   "cell_type": "code",
   "execution_count": 8,
   "metadata": {},
   "outputs": [
    {
     "data": {
      "text/plain": [
       "array([ -1.4639  ,  -2.4799  ,  -3.8651  ,  -3.0494  ,   0.5724  ,\n",
       "         6.3227  ,   0.68117 ,   3.3025  ,   4.7643  ,  -4.5324  ,\n",
       "        -5.0241  ,   1.2499  ,   4.9338  ,  -3.6056  ,  -3.7387  ,\n",
       "        -1.068   ,   2.5113  ,   3.3629  ,   1.611   ,  11.62    ,\n",
       "        -1.0748  ,   0.77754 ,   7.5661  ,   0.077073,   0.73049 ,\n",
       "         3.3523  ,   1.5292  ,   2.5581  ,  -5.3649  ,  -5.7513  ,\n",
       "        -5.2362  ,  11.104   ,  -2.5218  ,  11.061   ,  -7.5375  ,\n",
       "        -2.0597  ,   2.3736  ,  -3.9835  ,  -3.1375  ,  -1.5505  ,\n",
       "         2.5327  ,   1.8263  ,   1.5949  ,   1.9807  ,   1.6303  ,\n",
       "        -2.579   ,   1.5565  ,   1.7248  ,   0.1474  ,   3.2506  ,\n",
       "        -0.58425 ,   3.9331  ,  -0.19418 ,   1.0491  ,   2.0897  ,\n",
       "        -5.6368  ,  -1.912   ,  -9.2915  ,  -3.9354  ,   2.8393  ,\n",
       "        -2.9731  ,  -3.0288  ,   0.5511  ,   7.0456  ,   3.9736  ,\n",
       "        -4.4724  ,  -5.1859  ,   0.628   ,   2.5993  ,  -0.80378 ,\n",
       "         1.4134  ,  -2.048   ,  -1.8045  ,  -6.1265  ,  -5.1612  ,\n",
       "        -1.2721  ,   2.8313  ,   2.1629  ,  -5.2593  ,  -0.114   ,\n",
       "         2.4883  ,  -1.6358  ,  -2.686   ,   1.3116  ,   2.4148  ,\n",
       "        -6.2436  ,  -1.372   ,  -6.6367  ,   1.5568  ,   0.29886 ,\n",
       "        -8.8113  ,   3.4096  ,  -2.57    ,   8.9002  ,  -0.28518 ,\n",
       "        -4.5684  ,   0.99838 ,   5.815   ,   8.3249  ,  -1.5223  ,\n",
       "        -1.8093  ,  -4.3233  ,   1.0191  ,  -0.56499 ,   2.9879  ,\n",
       "         4.4272  ,  -3.424   ,   1.9314  ,   6.0934  , -14.213   ,\n",
       "        -5.6038  ,  -3.6766  ,   3.8356  ,   3.2211  ,   2.3035  ,\n",
       "        -9.3554  ,   0.062381,   1.3877  ,  -3.6085  ,  -0.60965 ,\n",
       "         5.1243  ,  -3.3969  ,   2.4697  ,  -0.17631 ,  -4.5803  ,\n",
       "         3.8293  ,   1.3904  ,   3.1351  ,  -3.1415  ,  -2.4179  ,\n",
       "         2.3899  ,   0.83254 ,  -2.5043  ,   0.38529 ,  -1.2845  ,\n",
       "         2.8099  ,   1.8351  ,   2.9675  ,  -0.48307 ,  -1.2729  ,\n",
       "         2.5059  ,   6.3561  ,   1.4859  ,  -2.5295  ,  -5.8353  ,\n",
       "        -2.9841  ,  -2.581   ,   2.0612  ,  -3.4973  ,  -0.64406 ,\n",
       "        -1.2894  ,   0.96008 ,  -1.5394  ,  -3.167   ,  -2.4963  ,\n",
       "        -3.4989  ,   2.2344  ,  -1.4561  ,   1.8383  ,   3.1262  ,\n",
       "        -0.21508 ,  -3.7275  ,  -1.4202  , -11.091   ,  -7.7485  ,\n",
       "        -4.5314  ,  -0.94067 ,  -1.2974  ,  -0.34471 ,  -2.2295  ,\n",
       "        -3.8253  ,  -0.48277 ,  -0.93782 ,   1.639   ,  -0.58557 ,\n",
       "        -0.46354 ,  -2.6545  ,   3.3005  ,   6.7257  ,   4.8502  ,\n",
       "        -9.1098  ,   6.5038  ,  -5.1727  ,   5.77    ,   1.926   ,\n",
       "         1.5425  ,  -0.38121 ,  -2.6611  ,   9.3012  ,   5.225   ,\n",
       "         9.94    ,  -1.9056  ,   0.69159 ,   0.72595 ,   1.0453  ,\n",
       "        -2.3777  ,  -3.9896  ,   2.7721  ,  -0.41724 ,   0.12431 ,\n",
       "        -1.3382  ,  -0.12769 ,  -0.65793 ,  -4.5916  ,  -3.1725  ,\n",
       "         7.3058  ,   5.3511  ,  -7.8276  ,  -0.80897 ,   3.4216  ,\n",
       "        -1.3973  ,   1.4192  ,   0.16613 ,   1.2227  ,   6.998   ,\n",
       "        -4.3286  ,   0.12587 ,  -0.33736 ,   3.5107  ,  -1.9002  ,\n",
       "         6.1954  ,  -1.2941  ,   0.84726 ,  -0.88786 ,  -4.8835  ,\n",
       "         5.0847  ,   2.0116  ,   1.9215  ,  -3.066   ,  -1.1355  ,\n",
       "         1.4908  ,  -1.4646  ,  -4.2469  ,  -5.083   ,   4.845   ,\n",
       "         0.30996 ,   4.2782  ,  -3.298   ,   5.1392  ,   1.3808  ,\n",
       "         2.7935  ,  -3.0335  ,   5.1229  ,  -9.5738  ,   4.0103  ,\n",
       "         2.0867  ,   6.252   ,  -2.3151  ,  -5.5302  ,   2.4114  ,\n",
       "        -0.97017 ,  -6.0456  ,   0.95996 ,  -3.1565  ,  -3.3841  ,\n",
       "        -3.8872  ,  -3.8125  ,   0.78454 ,  -3.9446  ,   0.65427 ,\n",
       "         3.5473  ,  -8.0996  ,   2.6533  ,  -0.53439 ,  -7.4642  ,\n",
       "        -7.0819  ,  -8.2701  ,   6.5428  ,   1.5275  , -14.367   ,\n",
       "         2.5246  ,   2.2221  ,   3.3843  ,  -5.6998  ,  -5.9692  ,\n",
       "        -0.46833 ,  -2.0653  ,   5.0047  ,  -2.2712  ,  -2.6779  ,\n",
       "        -0.035542,  -0.55463 ,   4.5071  ,   3.6931  ,   1.1211  ,\n",
       "         1.5739  ,   0.27832 ,   5.9765  ,   1.7522  ,  -2.6285  ,\n",
       "        -9.8553  ,  -7.3187  ,  -2.6539  ,   1.1397  ,  -0.070228,\n",
       "        -1.3039  ,   4.8338  ,   1.3493  ,  -1.1027  ,  -2.1362  ],\n",
       "      dtype=float32)"
      ]
     },
     "execution_count": 8,
     "metadata": {},
     "output_type": "execute_result"
    }
   ],
   "source": [
    "import spacy\n",
    "nlp = spacy.load('en_core_web_lg')\n",
    "nlp(u'lion').vector # the array has dimension of 300\n",
    "\n",
    "nlp(u'The quick brown fox jumps over the lazy dog').vector\n",
    "nlp(u'Fox').vector"
   ]
  },
  {
   "cell_type": "code",
   "execution_count": 11,
   "metadata": {},
   "outputs": [
    {
     "name": "stdout",
     "output_type": "stream",
     "text": [
      "like like 1.0\n",
      "like love 0.5212638974189758\n",
      "like hate 0.5065140724182129\n",
      "love like 0.5212638974189758\n",
      "love love 1.0\n",
      "love hate 0.5708349943161011\n",
      "hate like 0.5065140724182129\n",
      "hate love 0.5708349943161011\n",
      "hate hate 1.0\n"
     ]
    }
   ],
   "source": [
    "token = nlp(u'like love hate')\n",
    "for token1 in token:\n",
    "    for token2 in token:\n",
    "        print(token1.text,token2.text,token1.similarity(token2))\n"
   ]
  },
  {
   "cell_type": "code",
   "execution_count": 15,
   "metadata": {},
   "outputs": [
    {
     "name": "stdout",
     "output_type": "stream",
     "text": [
      "<spacy.vectors.Vectors object at 0x0000018B5BF04C40>\n",
      "514157\n",
      "(514157, 300)\n",
      "dog True 75.254234 False\n",
      "cat True 63.188496 False\n",
      "nargle False 0.0 True\n",
      "Vaibhav True 13.864747 False\n"
     ]
    }
   ],
   "source": [
    "import spacy\n",
    "from scipy import spatial\n",
    "\n",
    "nlp = spacy.load('en_core_web_lg')\n",
    "print(nlp.vocab.vectors)\n",
    "print(len(nlp.vocab.vectors))\n",
    "print(nlp.vocab.vectors.shape)\n",
    "\n",
    "tokens = nlp(u\"dog cat nargle Vaibhav\")\n",
    "\n",
    "for token in tokens:\n",
    "    print(token.text,token.has_vector,token.vector_norm,token.is_oov)\n"
   ]
  },
  {
   "cell_type": "code",
   "execution_count": 21,
   "metadata": {},
   "outputs": [
    {
     "name": "stdout",
     "output_type": "stream",
     "text": [
      "['king', 'and', 'that', 'where', 'she', 'they', 'woman', 'there', 'should', 'these', 'would', 'those', 'cause', 'ought', 'who', 'might', 'not', 'this', 'when', 'could', 'somethin', 'were', 'all', 'a', 'have', 'he', 'must', 'space', 'what', 'may', 'it', 'was', 'you', 'or', 'had', 'are', 'nothin', 'has', 'need', 'can', 'is', 'how', 'b', 'does', 're', 'p', 'havin', 'on', 'why', 'man']\n"
     ]
    }
   ],
   "source": [
    "from scipy import spatial\n",
    "\n",
    "cosine_similarity = lambda x, y: 1-spatial.distance.cosine(x,y)\n",
    "\n",
    "king = nlp.vocab['king'].vector\n",
    "man = nlp.vocab['man'].vector\n",
    "woman = nlp.vocab['woman'].vector\n",
    "\n",
    "new_vector = king - man + woman\n",
    "computed_similarities = []\n",
    "\n",
    "for word in nlp.vocab:\n",
    "    if word.has_vector:\n",
    "        if word.is_lower:\n",
    "            if word.is_alpha:\n",
    "                similarity = cosine_similarity(new_vector,word.vector)\n",
    "                computed_similarities.append((word,similarity))\n",
    "\n",
    "computed_similarities = sorted(computed_similarities,key = lambda item: -item[1])\n",
    "print([w[0].text for w in computed_similarities[:50]])\n"
   ]
  },
  {
   "cell_type": "code",
   "execution_count": 25,
   "metadata": {},
   "outputs": [
    {
     "name": "stdout",
     "output_type": "stream",
     "text": [
      "{'neg': 0.0, 'neu': 0.595, 'pos': 0.405, 'compound': 0.8172}\n",
      "{'neg': 0.499, 'neu': 0.501, 'pos': 0.0, 'compound': -0.7163}\n"
     ]
    },
    {
     "name": "stderr",
     "output_type": "stream",
     "text": [
      "[nltk_data] Downloading package vader_lexicon to\n",
      "[nltk_data]     C:\\Users\\Vaibhav\\AppData\\Roaming\\nltk_data...\n",
      "[nltk_data]   Package vader_lexicon is already up-to-date!\n"
     ]
    }
   ],
   "source": [
    "# sentiment analysis\n",
    "import nltk\n",
    "\n",
    "nltk.download('vader_lexicon')\n",
    "\n",
    "from nltk.sentiment.vader import SentimentIntensityAnalyzer\n",
    "sid = SentimentIntensityAnalyzer()\n",
    "\n",
    "a = 'This is the best movie i ever read! though it had a scope of improvement'\n",
    "print(sid.polarity_scores(a))\n",
    "b = 'This is the worst movie ever!!!'\n",
    "print(sid.polarity_scores(b))"
   ]
  },
  {
   "cell_type": "code",
   "execution_count": 18,
   "metadata": {},
   "outputs": [
    {
     "name": "stderr",
     "output_type": "stream",
     "text": [
      "C:\\Users\\Vaibhav\\AppData\\Local\\Temp\\ipykernel_15076\\2478673399.py:22: FutureWarning: Setting an item of incompatible dtype is deprecated and will raise an error in a future version of pandas. Value '0.243' has dtype incompatible with int64, please explicitly cast to a compatible dtype first.\n",
      "  df.at[i, 'sentiment_pos'] = scores['pos']\n",
      "C:\\Users\\Vaibhav\\AppData\\Local\\Temp\\ipykernel_15076\\2478673399.py:23: FutureWarning: Setting an item of incompatible dtype is deprecated and will raise an error in a future version of pandas. Value '0.669' has dtype incompatible with int64, please explicitly cast to a compatible dtype first.\n",
      "  df.at[i, 'sentiment_neu'] = scores['neu']\n",
      "C:\\Users\\Vaibhav\\AppData\\Local\\Temp\\ipykernel_15076\\2478673399.py:24: FutureWarning: Setting an item of incompatible dtype is deprecated and will raise an error in a future version of pandas. Value '0.088' has dtype incompatible with int64, please explicitly cast to a compatible dtype first.\n",
      "  df.at[i, 'sentiment_neg'] = scores['neg']\n"
     ]
    },
    {
     "name": "stdout",
     "output_type": "stream",
     "text": [
      "0.8305\n"
     ]
    }
   ],
   "source": [
    "import pandas as pd\n",
    "import numpy as np\n",
    "from sklearn.metrics import accuracy_score, precision_score\n",
    "from sklearn.ensemble import RandomForestClassifier\n",
    "from nltk.sentiment.vader import SentimentIntensityAnalyzer\n",
    "from sklearn.feature_extraction.text import TfidfVectorizer\n",
    "from sklearn.model_selection import train_test_split\n",
    "from sklearn.pipeline import Pipeline\n",
    "\n",
    "# Load the dataset\n",
    "df = pd.read_csv(r\"C:\\Users\\Vaibhav\\OneDrive\\Documents\\FolderPython\\Artificial_Intelligence\\Natural_Language_Processing\\Nlp_revision\\TextFiles\\amazonreviews.tsv\", sep='\\t')\n",
    "sid2 = SentimentIntensityAnalyzer()\n",
    "\n",
    "# Initialize new columns for sentiment scores\n",
    "df['sentiment_pos'] = 0\n",
    "df['sentiment_neu'] = 0\n",
    "df['sentiment_neg'] = 0\n",
    "\n",
    "# Calculate polarity scores for each review\n",
    "for i in range(len(df)):\n",
    "    scores = sid2.polarity_scores(df['review'].iloc[i])\n",
    "    df.at[i, 'sentiment_pos'] = scores['pos']\n",
    "    df.at[i, 'sentiment_neu'] = scores['neu']\n",
    "    df.at[i, 'sentiment_neg'] = scores['neg']\n",
    "\n",
    "# Correctly select the features and label\n",
    "x = df[['review', 'sentiment_neg', 'sentiment_neu', 'sentiment_pos']]\n",
    "y = df['label']\n",
    "\n",
    "# Split the data\n",
    "x_train, x_test, y_train, y_test = train_test_split(x, y, test_size=0.2)\n",
    "\n",
    "# Create a pipeline with TfidfVectorizer and RandomForestClassifier\n",
    "rdclf = Pipeline([\n",
    "    ('v', TfidfVectorizer()),  # Vectorizing the review text\n",
    "    ('clf', RandomForestClassifier())  # Using RandomForestClassifier\n",
    "])\n",
    "\n",
    "# Fit the model\n",
    "rdclf.fit(x_train['review'], y_train)\n",
    "\n",
    "# Make predictions\n",
    "y_pred = rdclf.predict(x_test['review'])\n",
    "\n",
    "# Evaluate accuracy\n",
    "print(accuracy_score(y_pred, y_test))\n",
    "\n",
    "# the accuracy is increased from 81 to 83 percent\n"
   ]
  },
  {
   "cell_type": "code",
   "execution_count": null,
   "metadata": {},
   "outputs": [],
   "source": []
  }
 ],
 "metadata": {
  "kernelspec": {
   "display_name": "Python 3",
   "language": "python",
   "name": "python3"
  },
  "language_info": {
   "codemirror_mode": {
    "name": "ipython",
    "version": 3
   },
   "file_extension": ".py",
   "mimetype": "text/x-python",
   "name": "python",
   "nbconvert_exporter": "python",
   "pygments_lexer": "ipython3",
   "version": "3.11.4"
  }
 },
 "nbformat": 4,
 "nbformat_minor": 2
}
