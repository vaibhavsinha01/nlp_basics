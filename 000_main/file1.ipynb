{
 "cells": [
  {
   "cell_type": "code",
   "execution_count": 1,
   "metadata": {},
   "outputs": [
    {
     "name": "stdout",
     "output_type": "stream",
     "text": [
      "c:\\Users\\Vaibhav\\OneDrive\\Documents\\FolderPython\\Artificial_Intelligence\\Natural_Language_Processing\\Nlp_revision\\000_main\n"
     ]
    }
   ],
   "source": [
    "import os\n",
    "path = os.getcwd()\n",
    "print(path)"
   ]
  },
  {
   "cell_type": "code",
   "execution_count": 11,
   "metadata": {},
   "outputs": [
    {
     "name": "stdout",
     "output_type": "stream",
     "text": [
      "<_io.TextIOWrapper name='C:\\\\Users\\\\Vaibhav\\\\OneDrive\\\\Documents\\\\FolderPython\\\\Artificial_Intelligence\\\\Natural_Language_Processing\\\\udemy_course_revise\\\\UPDATED_NLP_COURSE\\\\00-Python-Text-Basics\\\\test.txt' mode='r' encoding='cp1252'>\n"
     ]
    }
   ],
   "source": [
    "myfile = open(r\"C:\\Users\\Vaibhav\\OneDrive\\Documents\\FolderPython\\Artificial_Intelligence\\Natural_Language_Processing\\udemy_course_revise\\UPDATED_NLP_COURSE\\00-Python-Text-Basics\\test.txt\")\n",
    "print(myfile)"
   ]
  },
  {
   "cell_type": "code",
   "execution_count": 12,
   "metadata": {},
   "outputs": [
    {
     "name": "stdout",
     "output_type": "stream",
     "text": [
      "This is a new first line\n",
      "This line is being appended to test.txt\n",
      "And another line here.\n",
      "This is more text being appended to test.txt\n",
      "And another line here.\n"
     ]
    }
   ],
   "source": [
    "myfile.seek(0)\n",
    "data = myfile.read()\n",
    "print(data)\n",
    "myfile.close()"
   ]
  },
  {
   "cell_type": "code",
   "execution_count": 15,
   "metadata": {},
   "outputs": [
    {
     "name": "stdout",
     "output_type": "stream",
     "text": [
      "This is a new first line\n",
      "\n",
      "This line is being appended to test.txt\n",
      "\n",
      "And another line here.\n",
      "\n",
      "This is more text being appended to test.txt\n",
      "\n",
      "And another line here.\n"
     ]
    }
   ],
   "source": [
    "myfile = open(r\"C:\\Users\\Vaibhav\\OneDrive\\Documents\\FolderPython\\Artificial_Intelligence\\Natural_Language_Processing\\udemy_course_revise\\UPDATED_NLP_COURSE\\00-Python-Text-Basics\\test.txt\")\n",
    "mylines = myfile.readlines()\n",
    "for line in mylines:\n",
    "    print(line)\n",
    "\n",
    "myfile.close()"
   ]
  },
  {
   "cell_type": "code",
   "execution_count": 22,
   "metadata": {},
   "outputs": [
    {
     "name": "stdout",
     "output_type": "stream",
     "text": [
      "My brand new text\n"
     ]
    }
   ],
   "source": [
    "myfile = open(r\"C:\\Users\\Vaibhav\\OneDrive\\Documents\\FolderPython\\Artificial_Intelligence\\Natural_Language_Processing\\udemy_course_revise\\UPDATED_NLP_COURSE\\00-Python-Text-Basics\\test.txt\",'w+')\n",
    "myfile.read()\n",
    "myfile.write('My brand new text')\n",
    "myfile.seek(0)\n",
    "print(myfile.read())\n",
    "myfile.close()"
   ]
  },
  {
   "cell_type": "code",
   "execution_count": 25,
   "metadata": {},
   "outputs": [
    {
     "name": "stdout",
     "output_type": "stream",
     "text": [
      "My brand new textMy first line using append functionMy first line using append functionMy first line using append function\n"
     ]
    }
   ],
   "source": [
    "newmyfile = open(r\"C:\\Users\\Vaibhav\\OneDrive\\Documents\\FolderPython\\Artificial_Intelligence\\Natural_Language_Processing\\udemy_course_revise\\UPDATED_NLP_COURSE\\00-Python-Text-Basics\\test.txt\",'a+')\n",
    "newmyfile.write(\"My first line using append function\")\n",
    "newmyfile.seek(0)\n",
    "print(newmyfile.read())\n",
    "newmyfile.close()"
   ]
  },
  {
   "cell_type": "code",
   "execution_count": 32,
   "metadata": {},
   "outputs": [
    {
     "name": "stdout",
     "output_type": "stream",
     "text": [
      "(4, 9)\n",
      "4\n",
      "9\n",
      "(3, 8)\n",
      "['phone', 'phone']\n",
      "2\n",
      "(3, 8)\n",
      "(18, 23)\n",
      "878\n",
      "<re.Match object; span=(0, 12), match='878-102-2999'>\n"
     ]
    }
   ],
   "source": [
    "# regular expressions\n",
    "import re\n",
    "text = 'The phone no of the agent is 408-555-1234. Call soon!'\n",
    "\n",
    "pattern = \"phone\"\n",
    "my_match = re.search(pattern,text)\n",
    "print(my_match.span())\n",
    "print(my_match.start())\n",
    "print(my_match.end())\n",
    "\n",
    "text = 'My phone is a new phone'\n",
    "\n",
    "match = re.search(pattern,text)\n",
    "print(match.span())\n",
    "matchall = re.findall(\"phone\",text)\n",
    "print(matchall)\n",
    "print(len(matchall))\n",
    "\n",
    "for match in re.finditer(\"phone\",text):\n",
    "    print(match.span())\n",
    "\n",
    "text = '878-102-2999 is my phone number'\n",
    "pattern = r'\\d\\d\\d-\\d\\d\\d-\\d\\d\\d\\d'\n",
    "pattern2 = r'\\d{3}-\\d{3}-\\d{4}'\n",
    "pattern3 = r'(\\d{3})-(\\d{3})-(\\d{4})'\n",
    "\n",
    "phone_number = re.search(pattern,text)\n",
    "phone_number2 = re.search(pattern2,text)\n",
    "phone_number3 = re.search(pattern3,text)\n",
    "\n",
    "print(phone_number3.group(1)) # find the first part of group\n",
    "print(phone_number3)"
   ]
  },
  {
   "cell_type": "code",
   "execution_count": 35,
   "metadata": {},
   "outputs": [
    {
     "name": "stdout",
     "output_type": "stream",
     "text": [
      "<re.Match object; span=(5, 10), match='women'>\n",
      "['cat', 'hat', 'sat', 'lat']\n",
      "['2']\n",
      "['1']\n"
     ]
    }
   ],
   "source": [
    "print(re.search(r\"man|women\",\"This women was here\"))\n",
    "\n",
    "print(re.findall(r'.at','The cat in the hat sat and splat'))\n",
    "\n",
    "print(re.findall(r'\\d$',\"This ends with no 2\"))\n",
    "print(re.findall(r'^\\d',\"1 is the loneliest no\"))\n",
    "\n"
   ]
  },
  {
   "cell_type": "code",
   "execution_count": 36,
   "metadata": {},
   "outputs": [
    {
     "name": "stdout",
     "output_type": "stream",
     "text": [
      "['t', 'h', 'e', 'r', 'e', ' ', 'a', 'r', 'e', ' ', ' ', 'n', 'u', 'm', 'b', 'e', 'r', 's', ' ', ' ', 'i', 'n', 's', 'i', 'd', 'e', ' ', ' ', 't', 'h', 'i', 's', ' ', 's', 'e', 'n', 't', 'e', 'n', 'c', 'e']\n",
      "['there are ', ' numbers ', ' inside ', ' this sentence']\n"
     ]
    }
   ],
   "source": [
    "phrase = 'there are 3 numbers 34 inside 5 this sentence'\n",
    "\n",
    "print(re.findall(r\"[^\\d]\",phrase))\n",
    "print(re.findall(r'[^\\d]+',phrase))"
   ]
  },
  {
   "cell_type": "code",
   "execution_count": 38,
   "metadata": {},
   "outputs": [
    {
     "data": {
      "text/plain": [
       "'This is a string  but it has punctuation  How to remove it'"
      ]
     },
     "execution_count": 38,
     "metadata": {},
     "output_type": "execute_result"
    }
   ],
   "source": [
    "test_phrase = 'This is a string! but it has punctuation. How to remove it?'\n",
    "\n",
    "mylist = (re.findall(r'[^!.?]+',test_phrase))\n",
    "' '.join(mylist)\n"
   ]
  },
  {
   "cell_type": "code",
   "execution_count": 39,
   "metadata": {},
   "outputs": [
    {
     "name": "stdout",
     "output_type": "stream",
     "text": [
      "['hypen-words', 'long-ish']\n",
      "['abekar@ourcompany.com']\n"
     ]
    }
   ],
   "source": [
    "text_new = 'Only find the hypen-words. Were are the long-ish dash words?'\n",
    "print(re.findall(r'[\\w]+-[\\w]+',text_new))\n",
    "\n",
    "text = \"Hello there the first email is abekar@ourcompany.com\"\n",
    "pattern = r'[\\w]+@[\\w]+.\\w{3}'\n",
    "print(re.findall(pattern,text))"
   ]
  }
 ],
 "metadata": {
  "kernelspec": {
   "display_name": "Python 3",
   "language": "python",
   "name": "python3"
  },
  "language_info": {
   "codemirror_mode": {
    "name": "ipython",
    "version": 3
   },
   "file_extension": ".py",
   "mimetype": "text/x-python",
   "name": "python",
   "nbconvert_exporter": "python",
   "pygments_lexer": "ipython3",
   "version": "3.11.4"
  }
 },
 "nbformat": 4,
 "nbformat_minor": 2
}
