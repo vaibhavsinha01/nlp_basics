{
 "cells": [
  {
   "cell_type": "code",
   "execution_count": 7,
   "metadata": {},
   "outputs": [
    {
     "name": "stdout",
     "output_type": "stream",
     "text": [
      "     label                                            message  length  punct\n",
      "0      ham  Go until jurong point, crazy.. Available only ...     111      9\n",
      "1      ham                      Ok lar... Joking wif u oni...      29      6\n",
      "2     spam  Free entry in 2 a wkly comp to win FA Cup fina...     155      6\n",
      "3      ham  U dun say so early hor... U c already then say...      49      6\n",
      "4      ham  Nah I don't think he goes to usf, he lives aro...      61      2\n",
      "...    ...                                                ...     ...    ...\n",
      "5567  spam  This is the 2nd time we have tried 2 contact u...     160      8\n",
      "5568   ham               Will ü b going to esplanade fr home?      36      1\n",
      "5569   ham  Pity, * was in mood for that. So...any other s...      57      7\n",
      "5570   ham  The guy did some bitching but I acted like i'd...     125      1\n",
      "5571   ham                         Rofl. Its true to its name      26      1\n",
      "\n",
      "[5572 rows x 4 columns]\n"
     ]
    },
    {
     "data": {
      "text/plain": [
       "label      0\n",
       "message    0\n",
       "length     0\n",
       "punct      0\n",
       "dtype: int64"
      ]
     },
     "execution_count": 7,
     "metadata": {},
     "output_type": "execute_result"
    }
   ],
   "source": [
    "# text classification\n",
    "\n",
    "import numpy as np\n",
    "import pandas as pd\n",
    "from sklearn.preprocessing import StandardScaler\n",
    "from sklearn.pipeline import Pipeline\n",
    "\n",
    "df = pd.read_csv(r\"C:\\Users\\Vaibhav\\OneDrive\\Documents\\FolderPython\\Artificial_Intelligence\\Natural_Language_Processing\\Nlp_revision\\TextFiles\\smsspamcollection.tsv\",sep='\\t')\n",
    "print(df)\n",
    "df.head()\n",
    "df.isnull().sum() # here the sum is 0 so no null\n"
   ]
  },
  {
   "cell_type": "code",
   "execution_count": 8,
   "metadata": {},
   "outputs": [
    {
     "data": {
      "text/plain": [
       "0        ham\n",
       "1        ham\n",
       "2       spam\n",
       "3        ham\n",
       "4        ham\n",
       "        ... \n",
       "5567    spam\n",
       "5568     ham\n",
       "5569     ham\n",
       "5570     ham\n",
       "5571     ham\n",
       "Name: label, Length: 5572, dtype: object"
      ]
     },
     "execution_count": 8,
     "metadata": {},
     "output_type": "execute_result"
    }
   ],
   "source": [
    "df['label']"
   ]
  },
  {
   "cell_type": "code",
   "execution_count": 9,
   "metadata": {},
   "outputs": [
    {
     "name": "stdout",
     "output_type": "stream",
     "text": [
      "['ham' 'spam']\n",
      "<bound method IndexOpsMixin.value_counts of 0        ham\n",
      "1        ham\n",
      "2       spam\n",
      "3        ham\n",
      "4        ham\n",
      "        ... \n",
      "5567    spam\n",
      "5568     ham\n",
      "5569     ham\n",
      "5570     ham\n",
      "5571     ham\n",
      "Name: label, Length: 5572, dtype: object>\n"
     ]
    }
   ],
   "source": [
    "print(df['label'].unique())\n",
    "print(df['label'].value_counts)"
   ]
  },
  {
   "cell_type": "code",
   "execution_count": 11,
   "metadata": {},
   "outputs": [
    {
     "data": {
      "text/plain": [
       "(array([  0.,   0.,   0.,   0.,   0.,   0.,   0.,   0.,   0.,   0.,   0.,\n",
       "          0.,   0.,   0.,   0.,   0.,   0.,   0.,   1.,   0.,   1.,   0.,\n",
       "          1.,   0.,   1.,   4.,   3.,  10.,   2.,   6.,  17.,  13.,  17.,\n",
       "         47.,  69., 259., 290.,   5.,   1.,   0.,   0.,   0.,   0.,   0.,\n",
       "          0.,   0.,   0.,   0.,   0.]),\n",
       " array([  1.        ,   1.15      ,   1.3225    ,   1.520875  ,\n",
       "          1.74900625,   2.01135719,   2.31306077,   2.66001988,\n",
       "          3.05902286,   3.51787629,   4.04555774,   4.6523914 ,\n",
       "          5.35025011,   6.15278762,   7.07570576,   8.13706163,\n",
       "          9.35762087,  10.761264  ,  12.37545361,  14.23177165,\n",
       "         16.36653739,  18.821518  ,  21.6447457 ,  24.89145756,\n",
       "         28.62517619,  32.91895262,  37.85679551,  43.53531484,\n",
       "         50.06561207,  57.57545388,  66.21177196,  76.14353775,\n",
       "         87.56506841, 100.69982867, 115.80480298, 133.17552342,\n",
       "        153.15185194, 176.12462973, 202.54332419, 232.92482281,\n",
       "        267.86354623, 308.04307817, 354.2495399 , 407.38697088,\n",
       "        468.49501651, 538.76926899, 619.58465934, 712.52235824,\n",
       "        819.40071197, 942.31081877]),\n",
       " <BarContainer object of 49 artists>)"
      ]
     },
     "execution_count": 11,
     "metadata": {},
     "output_type": "execute_result"
    },
    {
     "data": {
      "image/png": "[encoded data removed]",
      "text/plain": [
       "<Figure size 640x480 with 1 Axes>"
      ]
     },
     "metadata": {},
     "output_type": "display_data"
    }
   ],
   "source": [
    "import matplotlib.pyplot as plt\n",
    "\n",
    "plt.xscale('log')\n",
    "bins = 1.15**(np.arange(0,50))\n",
    "\n",
    "plt.hist(df[df['label']=='ham']['length'],bins=bins,alpha=0.8)\n",
    "plt.hist(df[df['label']=='spam']['length'],bins=bins,alpha=0.8)"
   ]
  },
  {
   "cell_type": "code",
   "execution_count": 20,
   "metadata": {},
   "outputs": [
    {
     "name": "stdout",
     "output_type": "stream",
     "text": [
      "0.8492822966507177\n"
     ]
    }
   ],
   "source": [
    "from sklearn.model_selection import train_test_split\n",
    "from sklearn.linear_model import LogisticRegression\n",
    "from sklearn.svm import SVR\n",
    "from sklearn.metrics import accuracy_score,precision_score,recall_score,f1_score,confusion_matrix,classification_report\n",
    "\n",
    "X = df[['length','punct']]\n",
    "y = df['label']\n",
    "\n",
    "scaler = StandardScaler()\n",
    "scaler.fit_transform(X)\n",
    "\n",
    "x_train,x_test,y_train,y_test = train_test_split(X,y,test_size=0.3,random_state=10)\n",
    "\n",
    "lr_model = LogisticRegression(solver='lbfgs')\n",
    "lr_model.fit(x_train,y_train)\n",
    "\n",
    "y_pred = lr_model.predict(x_test)\n",
    "acc_score = accuracy_score(y_test,y_pred)\n",
    "print(acc_score)\n"
   ]
  },
  {
   "cell_type": "code",
   "execution_count": 25,
   "metadata": {},
   "outputs": [
    {
     "name": "stdout",
     "output_type": "stream",
     "text": [
      "0.8935406698564593\n",
      "[[1377   98]\n",
      " [  80  117]]\n"
     ]
    }
   ],
   "source": [
    "from sklearn.naive_bayes import MultinomialNB\n",
    "from sklearn.ensemble import RandomForestClassifier\n",
    "\n",
    "# nb_model = MultinomialNB()\n",
    "nb_model = RandomForestClassifier() # best working\n",
    "nb_model.fit(x_train,y_train)\n",
    "\n",
    "y_pred = nb_model.predict(x_test)\n",
    "acc_score = accuracy_score(y_test,y_pred)\n",
    "print(acc_score)\n",
    "print(confusion_matrix(y_pred,y_test))"
   ]
  },
  {
   "cell_type": "code",
   "execution_count": 27,
   "metadata": {},
   "outputs": [
    {
     "name": "stdout",
     "output_type": "stream",
     "text": [
      "  (0, 9)\t0.40301621080355077\n",
      "  (0, 2)\t0.40301621080355077\n",
      "  (0, 7)\t0.40301621080355077\n",
      "  (0, 8)\t0.3065042162415877\n",
      "  (0, 3)\t0.3065042162415877\n",
      "  (0, 5)\t0.40301621080355077\n",
      "  (0, 4)\t0.40301621080355077\n",
      "  (1, 6)\t0.6227660078332259\n",
      "  (1, 12)\t0.4736296010332684\n",
      "  (1, 0)\t0.6227660078332259\n",
      "  (2, 1)\t0.45954803293870056\n",
      "  (2, 10)\t0.45954803293870056\n",
      "  (2, 11)\t0.45954803293870056\n",
      "  (2, 12)\t0.3494981241087058\n",
      "  (2, 8)\t0.3494981241087058\n",
      "  (2, 3)\t0.3494981241087058\n"
     ]
    },
    {
     "data": {
      "text/plain": [
       "array(['call', 'dogs', 'game', 'go', 'hey', 'lets', 'sister', 'the', 'to',\n",
       "       'today', 'walk', 'want', 'your'], dtype=object)"
      ]
     },
     "execution_count": 27,
     "metadata": {},
     "output_type": "execute_result"
    }
   ],
   "source": [
    "from sklearn.feature_extraction.text import CountVectorizer\n",
    "from sklearn.feature_extraction.text import TfidfVectorizer\n",
    "\n",
    "messages = ['Hey, lets go to the game today!',\n",
    "            \"Call your sister.\",\n",
    "            \"Want to go walk your dogs?\"]\n",
    "\n",
    "vect = TfidfVectorizer()\n",
    "\n",
    "dtm = vect.fit_transform(messages)\n",
    "print(dtm)\n",
    "vect.get_feature_names_out()"
   ]
  },
  {
   "cell_type": "code",
   "execution_count": 33,
   "metadata": {},
   "outputs": [
    {
     "name": "stdout",
     "output_type": "stream",
     "text": [
      "{'this': 1, 'is': 2, 'a': 3, 'story': 4, 'about': 5, 'cats': 6, 'our': 7, 'feline': 8, 'pets': 9, 'are': 10, 'furry': 11, 'animals': 12}\n",
      "['1.txt', 0, 0, 0, 0, 0, 0, 0, 0, 0, 0, 0, 0]\n",
      "['1.txt', 1, 1, 1, 1, 1, 2, 1, 1, 1, 1, 1, 1]\n",
      "['2.txt', 1, 3, 1, 1, 1, 0, 0, 0, 0, 0, 0, 0]\n"
     ]
    }
   ],
   "source": [
    "vocab = {}\n",
    "i = 1\n",
    "\n",
    "with open(r'C:\\Users\\Vaibhav\\OneDrive\\Documents\\FolderPython\\Artificial_Intelligence\\Natural_Language_Processing\\Nlp_revision\\03-Text-Classification\\1.txt') as f:\n",
    "    x = f.read().lower().split()\n",
    "\n",
    "for word in x:\n",
    "    if word not in vocab:\n",
    "        vocab[word] = i\n",
    "        i += 1\n",
    "\n",
    "print(vocab)\n",
    "\n",
    "# Create an empty vector with space for each word in the vocabulary:\n",
    "one = ['1.txt'] + [0] * len(vocab)\n",
    "print(one)  # This is an empty vector, now we will map them to the vector\n",
    "\n",
    "with open(r'C:\\Users\\Vaibhav\\OneDrive\\Documents\\FolderPython\\Artificial_Intelligence\\Natural_Language_Processing\\Nlp_revision\\03-Text-Classification\\1.txt') as f:\n",
    "    x = f.read().lower().split()\n",
    "\n",
    "for word in x:\n",
    "    one[vocab[word]] += 1\n",
    "\n",
    "print(one)\n",
    "\n",
    "# Create an empty vector for the second file\n",
    "two = ['2.txt'] + [0] * len(vocab)\n",
    "\n",
    "# Use the correct path to open the second file\n",
    "with open(r\"..\\03-Text-Classification\\2.txt\") as f:\n",
    "    x = f.read().lower().split()\n",
    "\n",
    "for word in x:\n",
    "    if word in vocab:  # Ensure the word exists in the vocabulary before updating\n",
    "        two[vocab[word]] += 1\n",
    "\n",
    "print(two)"
   ]
  },
  {
   "cell_type": "code",
   "execution_count": 39,
   "metadata": {},
   "outputs": [
    {
     "name": "stdout",
     "output_type": "stream",
     "text": [
      "  label                                            message  length  punct\n",
      "0   ham  Go until jurong point, crazy.. Available only ...     111      9\n",
      "1   ham                      Ok lar... Joking wif u oni...      29      6\n",
      "2  spam  Free entry in 2 a wkly comp to win FA Cup fina...     155      6\n",
      "3   ham  U dun say so early hor... U c already then say...      49      6\n",
      "4   ham  Nah I don't think he goes to usf, he lives aro...      61      2\n",
      "\n",
      "\n",
      "label      0\n",
      "message    0\n",
      "length     0\n",
      "punct      0\n",
      "dtype: int64\n",
      "\n",
      "\n",
      "<bound method IndexOpsMixin.value_counts of 0        ham\n",
      "1        ham\n",
      "2       spam\n",
      "3        ham\n",
      "4        ham\n",
      "        ... \n",
      "5567    spam\n",
      "5568     ham\n",
      "5569     ham\n",
      "5570     ham\n",
      "5571     ham\n",
      "Name: label, Length: 5572, dtype: object>\n"
     ]
    }
   ],
   "source": [
    "import numpy as np\n",
    "import pandas as pd\n",
    "from sklearn.model_selection import train_test_split\n",
    "from sklearn.feature_extraction.text import CountVectorizer\n",
    "\n",
    "df = pd.read_csv(r'C:\\Users\\Vaibhav\\OneDrive\\Documents\\FolderPython\\Artificial_Intelligence\\Natural_Language_Processing\\Nlp_revision\\TextFiles\\smsspamcollection.tsv',sep='\\t')\n",
    "\n",
    "print(df.head())\n",
    "print('\\n')\n",
    "print(df.isnull().sum())\n",
    "print('\\n')\n",
    "print(df['label'].value_counts)\n",
    "\n",
    "x = df['message']\n",
    "y = df['label']\n"
   ]
  },
  {
   "cell_type": "code",
   "execution_count": 41,
   "metadata": {},
   "outputs": [
    {
     "name": "stdout",
     "output_type": "stream",
     "text": [
      "\n",
      "\n",
      "  (0, 4105)\t1\n",
      "  (0, 5332)\t1\n",
      "  (0, 5025)\t1\n",
      "  (0, 4586)\t1\n",
      "  (0, 6987)\t1\n",
      "  (0, 957)\t1\n",
      "  (0, 1585)\t1\n",
      "  (0, 1562)\t1\n",
      "  (0, 4909)\t1\n",
      "  (0, 4240)\t1\n",
      "  (0, 6933)\t1\n",
      "  (0, 3609)\t1\n",
      "  (0, 7455)\t1\n",
      "  (0, 7565)\t1\n",
      "  (0, 3127)\t2\n",
      "  (0, 4271)\t2\n",
      "  (0, 3267)\t2\n",
      "  (0, 2192)\t1\n",
      "  (1, 3609)\t1\n",
      "  (1, 4680)\t1\n",
      "  (1, 3525)\t1\n",
      "  (1, 3422)\t1\n",
      "  (1, 6247)\t1\n",
      "  (1, 5563)\t1\n",
      "  (1, 2166)\t1\n",
      "  :\t:\n",
      "  (4454, 2818)\t1\n",
      "  (4455, 2951)\t1\n",
      "  (4455, 6108)\t1\n",
      "  (4455, 3652)\t1\n",
      "  (4455, 7497)\t1\n",
      "  (4455, 1346)\t1\n",
      "  (4455, 6673)\t1\n",
      "  (4456, 3609)\t2\n",
      "  (4456, 4992)\t1\n",
      "  (4456, 6734)\t1\n",
      "  (4456, 1662)\t1\n",
      "  (4456, 6798)\t1\n",
      "  (4456, 4423)\t5\n",
      "  (4456, 7499)\t1\n",
      "  (4456, 4499)\t1\n",
      "  (4456, 1582)\t1\n",
      "  (4456, 2413)\t3\n",
      "  (4456, 5642)\t1\n",
      "  (4456, 4742)\t2\n",
      "  (4456, 945)\t1\n",
      "  (4456, 4523)\t1\n",
      "  (4456, 7559)\t1\n",
      "  (4456, 3569)\t1\n",
      "  (4456, 4769)\t1\n",
      "  (4456, 7678)\t1\n",
      "(4457,)\n",
      "(4457, 7783)\n"
     ]
    }
   ],
   "source": [
    "x_train,x_test,y_train,y_test = train_test_split(x,y,test_size=0.2)\n",
    "\n",
    "# count_vect = CountVectorizer()\n",
    "\n",
    "# x_train_counts = count_vect.fit_transform(x_train)\n",
    "# print('\\n')\n",
    "# print(x_train_counts)  # the size is of 4457*7702\n",
    "\n",
    "# print(x_train.shape)\n",
    "# print(x_train_counts.shape)"
   ]
  },
  {
   "cell_type": "code",
   "execution_count": 46,
   "metadata": {},
   "outputs": [
    {
     "name": "stdout",
     "output_type": "stream",
     "text": [
      "accuracy score is: 0.9811659192825112\n",
      "['ham'] ['spam']\n"
     ]
    },
    {
     "name": "stderr",
     "output_type": "stream",
     "text": [
      "c:\\Users\\Vaibhav\\AppData\\Local\\Programs\\Python\\Python311\\Lib\\site-packages\\sklearn\\svm\\_classes.py:31: FutureWarning: The default value of `dual` will change from `True` to `'auto'` in 1.5. Set the value of `dual` explicitly to suppress the warning.\n",
      "  warnings.warn(\n",
      "c:\\Users\\Vaibhav\\AppData\\Local\\Programs\\Python\\Python311\\Lib\\site-packages\\sklearn\\svm\\_classes.py:31: FutureWarning: The default value of `dual` will change from `True` to `'auto'` in 1.5. Set the value of `dual` explicitly to suppress the warning.\n",
      "  warnings.warn(\n"
     ]
    },
    {
     "data": {
      "text/plain": [
       "['text_classification_model.pkl']"
      ]
     },
     "execution_count": 46,
     "metadata": {},
     "output_type": "execute_result"
    }
   ],
   "source": [
    "from sklearn.feature_extraction.text import TfidfTransformer\n",
    "from sklearn.feature_extraction.text import TfidfVectorizer\n",
    "from sklearn.pipeline import Pipeline\n",
    "from sklearn.svm import LinearSVC\n",
    "import joblib\n",
    "\n",
    "# tfidf_transformer = TfidfTransformer()\n",
    "# x_train_tfidf = tfidf_transformer.fit_transform(x_train_counts)\n",
    "vectorizer = TfidfVectorizer() # combines the process of transformer and countvectorizeer\n",
    "x_train_tfidf = vectorizer.fit_transform(x_train)\n",
    "\n",
    "clf = LinearSVC()\n",
    "clf.fit(x_train_tfidf,y_train)\n",
    "\n",
    "text_clf = Pipeline([\n",
    "    ('tfidf',TfidfVectorizer()),\n",
    "    ('clf',LinearSVC())\n",
    "])\n",
    "\n",
    "text_clf.fit(x_train,y_train)\n",
    "y_pred = text_clf.predict(x_test)\n",
    "\n",
    "print('accuracy score is:',accuracy_score(y_pred,y_test))\n",
    "\n",
    "pred1 = text_clf.predict([\"Hi brother how are you doing\"])\n",
    "pred2 = text_clf.predict([\"Get 50 percent discount on sales of products Contact the no 9898989898 for the prize!!!\"])\n",
    "\n",
    "print(pred1,pred2)\n",
    "\n",
    "joblib.dump(text_clf,'text_classification_model.pkl')"
   ]
  },
  {
   "cell_type": "code",
   "execution_count": 59,
   "metadata": {},
   "outputs": [
    {
     "name": "stdout",
     "output_type": "stream",
     "text": [
      "  label                                             review\n",
      "0   neg  how do films like mouse hunt get into theatres...\n",
      "1   neg  some talented actresses are blessed with a dem...\n",
      "2   pos  this has been an extraordinary year for austra...\n",
      "3   pos  according to hollywood movies made in last few...\n",
      "4   neg  my first press screening of 1998 and already i...\n",
      "0.8396946564885496\n"
     ]
    },
    {
     "name": "stderr",
     "output_type": "stream",
     "text": [
      "c:\\Users\\Vaibhav\\AppData\\Local\\Programs\\Python\\Python311\\Lib\\site-packages\\sklearn\\svm\\_classes.py:31: FutureWarning: The default value of `dual` will change from `True` to `'auto'` in 1.5. Set the value of `dual` explicitly to suppress the warning.\n",
      "  warnings.warn(\n"
     ]
    },
    {
     "data": {
      "text/plain": [
       "['movie_review_classification.pkl']"
      ]
     },
     "execution_count": 59,
     "metadata": {},
     "output_type": "execute_result"
    }
   ],
   "source": [
    "df = pd.read_csv(r'C:\\Users\\Vaibhav\\OneDrive\\Documents\\FolderPython\\Artificial_Intelligence\\Natural_Language_Processing\\UPDATED_NLP_COURSE\\TextFiles\\moviereviews.tsv', sep='\\t')\n",
    "df.dropna(axis=0,inplace=True)\n",
    "print(df.head())\n",
    "x = df['review']\n",
    "y = df['label']\n",
    "\n",
    "\n",
    "x_train,x_test,y_train,y_test = train_test_split(x,y,test_size=0.2)\n",
    "\n",
    "text_clf = Pipeline([\n",
    "    ('tfidf',TfidfVectorizer()),\n",
    "    ('clf',LinearSVC())\n",
    "])\n",
    "\n",
    "text_clf.fit(x_train,y_train)\n",
    "y_pred = text_clf.predict(x_test)\n",
    "print(accuracy_score(y_pred,y_test))\n",
    "confusion_matrix(y_pred,y_test)\n",
    "\n",
    "joblib.dump(text_clf,'movie_review_classification.pkl')\n"
   ]
  }
 ],
 "metadata": {
  "kernelspec": {
   "display_name": "Python 3",
   "language": "python",
   "name": "python3"
  },
  "language_info": {
   "codemirror_mode": {
    "name": "ipython",
    "version": 3
   },
   "file_extension": ".py",
   "mimetype": "text/x-python",
   "name": "python",
   "nbconvert_exporter": "python",
   "pygments_lexer": "ipython3",
   "version": "3.11.4"
  }
 },
 "nbformat": 4,
 "nbformat_minor": 2
}
